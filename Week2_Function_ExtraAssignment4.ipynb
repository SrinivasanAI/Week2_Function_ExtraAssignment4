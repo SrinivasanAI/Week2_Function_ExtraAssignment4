{
 "cells": [
  {
   "cell_type": "code",
   "execution_count": 54,
   "id": "ca208a0f-3236-44dd-b7c6-2253346f0ae2",
   "metadata": {},
   "outputs": [
    {
     "name": "stdout",
     "output_type": "stream",
     "text": [
      "Sub-fields in AI are : \n",
      "Machine Learning\n",
      "Neural Networks\n",
      "Vision\n",
      "Robotics\n",
      "Speech Processing\n",
      "Natural Language Processing\n"
     ]
    }
   ],
   "source": [
    "# [1] Create a function Subfields() and list out the items in the list \n",
    "#Function Definition\n",
    "def Subfields() : \n",
    "        subFieldsList = [\"Machine Learning\",\"Neural Networks\",\"Vision\",\"Robotics\",\"Speech Processing\",\"Natural Language Processing\"]\n",
    "        print(\"Sub-fields in AI are : \")\n",
    "        for fieldItem in subFieldsList :\n",
    "            print(fieldItem)\n",
    "#Function Call            \n",
    "Subfields()"
   ]
  },
  {
   "cell_type": "code",
   "execution_count": 36,
   "id": "3f90a98d-01f6-461d-b46c-e64e2a6a1dd5",
   "metadata": {},
   "outputs": [
    {
     "name": "stdin",
     "output_type": "stream",
     "text": [
      "Enter a number :  88\n"
     ]
    },
    {
     "name": "stdout",
     "output_type": "stream",
     "text": [
      "88  is Even number\n"
     ]
    }
   ],
   "source": [
    "# [2] Create a function that checks whether the given number is Odd or Even\n",
    "def OddOrEven(num) : \n",
    "    if(num%2==0) :\n",
    "        print(num, \" is Even number\")\n",
    "    else :\n",
    "        print(num, \" is Odd number\") \n",
    "\n",
    "num = int(input(\"Enter a number : \"))\n",
    "OddOrEven(num)\n",
    "\n"
   ]
  },
  {
   "cell_type": "code",
   "execution_count": 46,
   "id": "867d9e4c-cf96-4f0c-b20d-26c412507fae",
   "metadata": {},
   "outputs": [
    {
     "name": "stdin",
     "output_type": "stream",
     "text": [
      "Enter your age :  22\n",
      "Enter your gender (Male/Female) :  Female\n"
     ]
    },
    {
     "name": "stdout",
     "output_type": "stream",
     "text": [
      "Eligible to get married\n"
     ]
    }
   ],
   "source": [
    "# [3] Create a function that tells elegibility of marriage for male and female according to their age limit like 21 for male and 18 for female \n",
    "def MarriageEligibilityChecker(age,gender) :\n",
    "    if(gender.lower()==\"female\" and age>=18) :\n",
    "        print(\"Eligible to get married\")\n",
    "    elif(gender.lower()==\"male\" and age>=21) :\n",
    "        print(\"Eligible to get married\")\n",
    "    else :\n",
    "         print(\"Not Eligible to get married\")\n",
    "\n",
    "age = int( input(\"Enter your age : \"))\n",
    "gender = input(\"Enter your gender (Male/Female) : \" )\n",
    "MarriageEligibilityChecker(age,gender)\n"
   ]
  },
  {
   "cell_type": "code",
   "execution_count": 49,
   "id": "344dd265-38d0-4eb8-922d-a4c5f3c2cc94",
   "metadata": {},
   "outputs": [
    {
     "name": "stdin",
     "output_type": "stream",
     "text": [
      "Enter Tamil marks :  89\n",
      "Enter English marks :  88\n",
      "Enter Maths marks :  88\n",
      "Enter Science marks :  86\n",
      "Enter Social Science marks :  87\n"
     ]
    },
    {
     "name": "stdout",
     "output_type": "stream",
     "text": [
      "Total :  438\n",
      "Percentage :  87.6\n"
     ]
    }
   ],
   "source": [
    "# [4] Create a function that calculates total &  percentage of enterted marks\n",
    "\n",
    "def MarkListCalculator(m1,m2,m3,m4,m5) :\n",
    "   total = m1 + m2 + m3 + m4 + m5\n",
    "   percentage = (total/500)*100 \n",
    "   print(\"Total : \", total)\n",
    "   print(\"Percentage : \", percentage) \n",
    "    \n",
    "tamil = int ( input(\"Enter Tamil marks : \") )\n",
    "english = int ( input(\"Enter English marks : \") )\n",
    "maths = int ( input(\"Enter Maths marks : \" ) )\n",
    "science = int ( input(\"Enter Science marks : \") )\n",
    "social = int ( input(\"Enter Social Science marks : \") )\n",
    "\n",
    "MarkListCalculator(tamil,english,maths,science,social)\n",
    "\n",
    "               "
   ]
  },
  {
   "cell_type": "code",
   "execution_count": 57,
   "id": "8dd1c3c2-157d-444d-a83c-38c1ef62999e",
   "metadata": {},
   "outputs": [
    {
     "name": "stdin",
     "output_type": "stream",
     "text": [
      "Enter height 5\n",
      "Enter width  10\n"
     ]
    },
    {
     "name": "stdout",
     "output_type": "stream",
     "text": [
      "Height :  5\n",
      "Breadth :  10\n",
      "Area of triangle :  25.0\n"
     ]
    },
    {
     "name": "stdin",
     "output_type": "stream",
     "text": [
      "Enter height1 5\n",
      "Enter height2 10\n",
      "Enter breadth  20\n"
     ]
    },
    {
     "name": "stdout",
     "output_type": "stream",
     "text": [
      "Height1 :  5\n",
      "Height2 :  10\n",
      "Breadth :  20\n",
      "Perimeter of triangle :  35\n"
     ]
    }
   ],
   "source": [
    "# [5] print area and perimeter of triangle using functions\n",
    "#Function Definition\n",
    "def CalculateArea(height,breadth) :\n",
    "    return (height*breadth)/2\n",
    "def CalculatePerimeter(height1,height2,breadth) :\n",
    "    return height1+height2+breadth\n",
    "\n",
    "#Getting Inputs to calculate Area\n",
    "height = int ( input(\"Enter height\") )\n",
    "breadth  = int ( input(\"Enter width \") )\n",
    "#Function Call to calculate Area\n",
    "print(\"Height : \", height)\n",
    "print(\"Breadth : \", breadth)\n",
    "print(\"Area of triangle : \", CalculateArea(height,breadth) )\n",
    "\n",
    "#Getting Inputs to calculate Perimeter\n",
    "height1 = int ( input(\"Enter height1\") )\n",
    "height2 = int ( input(\"Enter height2\") )\n",
    "breadth  = int ( input(\"Enter breadth \") )\n",
    "#Function Call to calculate Perimeter\n",
    "print(\"Height1 : \", height1)\n",
    "print(\"Height2 : \", height2)\n",
    "print(\"Breadth : \", breadth)\n",
    "print(\"Perimeter of triangle : \",CalculatePerimeter(height1,height2,breadth) )"
   ]
  },
  {
   "cell_type": "code",
   "execution_count": null,
   "id": "071af283-8386-48f5-91d0-dbbd9a6c1491",
   "metadata": {},
   "outputs": [],
   "source": []
  }
 ],
 "metadata": {
  "kernelspec": {
   "display_name": "Python 3 (ipykernel)",
   "language": "python",
   "name": "python3"
  },
  "language_info": {
   "codemirror_mode": {
    "name": "ipython",
    "version": 3
   },
   "file_extension": ".py",
   "mimetype": "text/x-python",
   "name": "python",
   "nbconvert_exporter": "python",
   "pygments_lexer": "ipython3",
   "version": "3.12.7"
  }
 },
 "nbformat": 4,
 "nbformat_minor": 5
}
